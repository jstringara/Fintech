{
 "cells": [
  {
   "cell_type": "markdown",
   "metadata": {},
   "source": [
    "# Recommendation systems: using Singular Value Decomposition (SVD)\n",
    "This is brief introduction to recommender systems based on collaborative filtering using SVD and its implementation in web page recommendation.\n",
    "(This is just a code snippet to give you an idea.)\n",
    "\n",
    "## Data\n",
    "The web pages of the website of a financial institution are grouped according to their characteristics (e.g. tags) in certain categories, and for each of them and each user a measure is estimated that summarizes the Average Session on Page (average amount of time spent on a given page), the total number of sessions and other SEO metrics that measure the customer engagement.\n",
    "They are all normalized in [0,10].\n",
    "\n",
    "- Inv = Website pages on investments, KPI in [0,10]\n",
    "- Ins = Website pages on insurance products, KPI in [0,10]\n",
    "- ReE = Website pages on mortgages, loans, residential financial, KPI in [0,10]\n",
    "- Pay = Website pages on payments, credit cards, debt cards, KPI in [0,10]\n",
    "- MeM = Website pages with generic information, KPI in [0,10]\n",
    "\n",
    "## Goal\n",
    "The website is dynamic: a dynamic website is a website that displays different types of content every time a user views it, and this display changes depending on rules. \n",
    "The idea is: use the information at your disposal for creating a more tailored experience on the site. Based on a user’s previous visit, or similar users' behaviors, a dynamic website can offer similar or related recommendations in terms of web pages, contents, etc. This is a job for a recommendation system.\n",
    "\n",
    "Let's import data and libraries, and let's have a look at our data."
   ]
  },
  {
   "cell_type": "code",
   "execution_count": 1,
   "metadata": {},
   "outputs": [
    {
     "ename": "SyntaxError",
     "evalue": "(unicode error) 'unicodeescape' codec can't decode bytes in position 2-3: truncated \\UXXXXXXXX escape (<ipython-input-1-624b1493b36e>, line 4)",
     "output_type": "error",
     "traceback": [
      "\u001b[1;36m  File \u001b[1;32m\"<ipython-input-1-624b1493b36e>\"\u001b[1;36m, line \u001b[1;32m4\u001b[0m\n\u001b[1;33m    webpages = pd.read_excel('C:\\Users\\andre\\Desktop\\Magistrale\\FINTECH\\ZENTI\\Progetto 2\\WebPagesKPI.xlsx') # Only reads col1, col2, col3. col0 will be ignored\u001b[0m\n\u001b[1;37m                             ^\u001b[0m\n\u001b[1;31mSyntaxError\u001b[0m\u001b[1;31m:\u001b[0m (unicode error) 'unicodeescape' codec can't decode bytes in position 2-3: truncated \\UXXXXXXXX escape\n"
     ]
    }
   ],
   "source": [
    "import numpy as np\n",
    "import pandas as pd\n",
    "\n",
    "webpages = pd.read_excel('C:/Users/andre\\Desktop\\Magistrale\\FINTECH\\ZENTI\\Progetto 2\\WebPagesKPI.xlsx') # Only reads col1, col2, col3. col0 will be ignored\n"
   ]
  },
  {
   "cell_type": "code",
   "execution_count": 85,
   "metadata": {},
   "outputs": [
    {
     "name": "stdout",
     "output_type": "stream",
     "text": [
      "               User ID  Inv  Ins  ReE  Pay  MeM\n",
      "0     OARQ249814647825    5    1    0    0    0\n",
      "1     VIZP702882221151    0    0    5    0    2\n",
      "2     FQEO606412621089    6    0    0    0    0\n",
      "3     TOPH566154866098    0    0    0    8    0\n",
      "4     TOPH566154869076    6    2    0    0    0\n",
      "...                ...  ...  ...  ...  ...  ...\n",
      "2078  UFDM391092504710    7    0    0    0    0\n",
      "2079  UFDM391092504710    1    0    0    0    5\n",
      "2080  UXUK848361229470    0    0    9    0    0\n",
      "2081  ATQU555050383451    2    0    0    1    0\n",
      "2082  DDFU541993148635    1    0    1    0    2\n",
      "\n",
      "[2083 rows x 6 columns]\n"
     ]
    }
   ],
   "source": [
    "print(webpages)"
   ]
  },
  {
   "cell_type": "code",
   "execution_count": 86,
   "metadata": {},
   "outputs": [
    {
     "data": {
      "text/html": [
       "<div>\n",
       "<style scoped>\n",
       "    .dataframe tbody tr th:only-of-type {\n",
       "        vertical-align: middle;\n",
       "    }\n",
       "\n",
       "    .dataframe tbody tr th {\n",
       "        vertical-align: top;\n",
       "    }\n",
       "\n",
       "    .dataframe thead th {\n",
       "        text-align: right;\n",
       "    }\n",
       "</style>\n",
       "<table border=\"1\" class=\"dataframe\">\n",
       "  <thead>\n",
       "    <tr style=\"text-align: right;\">\n",
       "      <th></th>\n",
       "      <th>User ID</th>\n",
       "      <th>Inv</th>\n",
       "      <th>Ins</th>\n",
       "      <th>ReE</th>\n",
       "      <th>Pay</th>\n",
       "      <th>MeM</th>\n",
       "    </tr>\n",
       "  </thead>\n",
       "  <tbody>\n",
       "    <tr>\n",
       "      <th>0</th>\n",
       "      <td>OARQ249814647825</td>\n",
       "      <td>5</td>\n",
       "      <td>1</td>\n",
       "      <td>0</td>\n",
       "      <td>0</td>\n",
       "      <td>0</td>\n",
       "    </tr>\n",
       "    <tr>\n",
       "      <th>1</th>\n",
       "      <td>VIZP702882221151</td>\n",
       "      <td>0</td>\n",
       "      <td>0</td>\n",
       "      <td>5</td>\n",
       "      <td>0</td>\n",
       "      <td>2</td>\n",
       "    </tr>\n",
       "    <tr>\n",
       "      <th>2</th>\n",
       "      <td>FQEO606412621089</td>\n",
       "      <td>6</td>\n",
       "      <td>0</td>\n",
       "      <td>0</td>\n",
       "      <td>0</td>\n",
       "      <td>0</td>\n",
       "    </tr>\n",
       "    <tr>\n",
       "      <th>3</th>\n",
       "      <td>TOPH566154866098</td>\n",
       "      <td>0</td>\n",
       "      <td>0</td>\n",
       "      <td>0</td>\n",
       "      <td>8</td>\n",
       "      <td>0</td>\n",
       "    </tr>\n",
       "    <tr>\n",
       "      <th>4</th>\n",
       "      <td>TOPH566154869076</td>\n",
       "      <td>6</td>\n",
       "      <td>2</td>\n",
       "      <td>0</td>\n",
       "      <td>0</td>\n",
       "      <td>0</td>\n",
       "    </tr>\n",
       "  </tbody>\n",
       "</table>\n",
       "</div>"
      ],
      "text/plain": [
       "            User ID  Inv  Ins  ReE  Pay  MeM\n",
       "0  OARQ249814647825    5    1    0    0    0\n",
       "1  VIZP702882221151    0    0    5    0    2\n",
       "2  FQEO606412621089    6    0    0    0    0\n",
       "3  TOPH566154866098    0    0    0    8    0\n",
       "4  TOPH566154869076    6    2    0    0    0"
      ]
     },
     "execution_count": 86,
     "metadata": {},
     "output_type": "execute_result"
    }
   ],
   "source": [
    "webpages.head()"
   ]
  },
  {
   "cell_type": "code",
   "execution_count": 87,
   "metadata": {},
   "outputs": [
    {
     "data": {
      "text/plain": [
       "User ID    object\n",
       "Inv         int64\n",
       "Ins         int64\n",
       "ReE         int64\n",
       "Pay         int64\n",
       "MeM         int64\n",
       "dtype: object"
      ]
     },
     "execution_count": 87,
     "metadata": {},
     "output_type": "execute_result"
    }
   ],
   "source": [
    "webpages.dtypes"
   ]
  },
  {
   "cell_type": "markdown",
   "metadata": {},
   "source": [
    "## Collaborative Filtering\n",
    "There are many techniques used for finding and recommending many suitable items (item = web page, in this case): **collaborative filtering through SVD is just one of those techniques**. It's very popular.\n",
    "\n",
    "The assumption of collaborative filtering is that people who have liked an item (a product, a web page, whatever) in the past will also like the same in future. Thus, this approach builds a model based on the past behaviour of users, finding an association between the users and the items. The model is then used to predict the item in which the user may be interested.\n",
    "\n",
    "We can use SVD to discover relationship between items, and a recommender system can be build easily from this.\n",
    "Let's see how.\n",
    "Just like a number, say 30, can be decomposed as factors 30 = 2x5x3, a matrix can also be expressed as multiplication of some other matrices. But because matrices are arrays of numbers, they have their own rules of multiplication: SVD is a linear algebra technique to break down a matrix into the product of a few smaller matrices - see https://en.wikipedia.org/wiki/Singular_value_decomposition, and https://numpy.org/doc/stable/reference/generated/numpy.linalg.svd.html.\n",
    "\n",
    "Briefly, SVD assumes a matrix of dimension users x items (which is called Utility Matrix) is decomposed as follows:\n",
    "                                   matrix = U*Sigma*V'\n",
    "\n",
    "Basically, we are looking for the **latent variables, or latent factors**, that hide under the surface of the phenomenon we are analyzing (in this case, the use of web pages):\n",
    "- U represents the relationship between users and latent factors\n",
    "- S describes the strength of each latent factor\n",
    "- V describes the similarity between items and latent factors.\n",
    "\n",
    "The latent factors here are **estimate** of the characteristics of the items: the SVD decreases the dimension of the utility matrix by extracting its latent factors. It maps each user and each item into a r-dimensional latent space. This mapping facilitates a clear representation of relationships between users and items. Then we will use cosine similarity to find the closest web pages and make a recommendation - see https://en.wikipedia.org/wiki/Cosine_similarity."
   ]
  },
  {
   "cell_type": "code",
   "execution_count": 88,
   "metadata": {},
   "outputs": [
    {
     "name": "stdout",
     "output_type": "stream",
     "text": [
      "(2083, 5)\n",
      "(5,)\n",
      "(5, 5)\n"
     ]
    }
   ],
   "source": [
    "# drop the User ID and create the Utility Matrix\n",
    "webpages.drop(columns=['User ID'],inplace=True)\n",
    "\n",
    "from numpy.linalg import svd\n",
    "matrix = webpages.values\n",
    "u, s, vh = svd(matrix, full_matrices=False)\n",
    "\n",
    "# little inspection\n",
    "print(u.shape)\n",
    "print(s.shape)\n",
    "print(vh.shape)"
   ]
  },
  {
   "cell_type": "markdown",
   "metadata": {},
   "source": [
    "NOTE 1: By default, the svd() returns a full SVD, but I used a reduced version so we have smaller matrices and we save memory. \n",
    "NOTE 2: If we normalize the scores, by subtracting their average rating, we turn low scores into negative numbers and high scores into positive numbers. This is a strong signal - maybe too strong in this case (it's OK with books and movies, but here? these are webpages...).\n",
    "HINT: try and see what happen."
   ]
  },
  {
   "cell_type": "markdown",
   "metadata": {},
   "source": [
    "The columns of vh correspond to the web pages. We can based on vector space model to find which book are most similar to the one we are looking at, using cosine similarity.\n",
    "And in this example, I try to find the web page that is best match to to first column, but - HINT - you can get an ordered list."
   ]
  },
  {
   "cell_type": "code",
   "execution_count": 93,
   "metadata": {},
   "outputs": [
    {
     "name": "stdout",
     "output_type": "stream",
     "text": [
      "Column 1 (webpage id MeM) is most similar to chosen column (webpage id Ins)\n"
     ]
    }
   ],
   "source": [
    "def cosine_similarity(v,u):\n",
    "    return (v @ u)/ (np.linalg.norm(v) * np.linalg.norm(u))\n",
    "\n",
    "#Pick a column = web page type\n",
    "chosen_col = 1\n",
    "\n",
    "\n",
    "highest_similarity = -np.inf\n",
    "highest_sim_col = -1\n",
    "for col in range(1,vh.shape[1]):\n",
    "    similarity = cosine_similarity(vh[:,chosen_col], vh[:,col])\n",
    "    if similarity > highest_similarity:\n",
    "        highest_similarity = similarity\n",
    "        highest_sim_col = col\n",
    " \n",
    "print(\"Column %d (webpage id %s) is most similar to chosen column (webpage id %s)\" %\n",
    "        (highest_sim_col, webpages.columns[col], webpages.columns[chosen_col])\n",
    ")"
   ]
  },
  {
   "cell_type": "code",
   "execution_count": null,
   "metadata": {},
   "outputs": [],
   "source": []
  }
 ],
 "metadata": {
  "kernelspec": {
   "display_name": "Python 3",
   "language": "python",
   "name": "python3"
  },
  "language_info": {
   "codemirror_mode": {
    "name": "ipython",
    "version": 3
   },
   "file_extension": ".py",
   "mimetype": "text/x-python",
   "name": "python",
   "nbconvert_exporter": "python",
   "pygments_lexer": "ipython3",
   "version": "3.8.5"
  }
 },
 "nbformat": 4,
 "nbformat_minor": 4
}
