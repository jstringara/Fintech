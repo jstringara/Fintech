{
 "cells": [
  {
   "cell_type": "markdown",
   "metadata": {},
   "source": [
    "# Recommendation systems: using Singular Value Decomposition (SVD)\n",
    "This is brief introduction to recommender systems based on collaborative filtering using SVD and its implementation in web page recommendation.\n",
    "(This is just a code snippet to give you an idea.)\n",
    "\n",
    "## Data\n",
    "The web pages of the website of a financial institution are grouped according to their characteristics (e.g. tags) in certain categories, and for each of them and each user a measure is estimated that summarizes the Average Session on Page (average amount of time spent on a given page), the total number of sessions and other SEO metrics that measure the customer engagement.\n",
    "They are all normalized in [0,10].\n",
    "\n",
    "- Inv = Website pages on investments, KPI in [0,10]\n",
    "- Ins = Website pages on insurance products, KPI in [0,10]\n",
    "- ReE = Website pages on mortgages, loans, residential financial, KPI in [0,10]\n",
    "- Pay = Website pages on payments, credit cards, debt cards, KPI in [0,10]\n",
    "- MeM = Website pages with generic information, KPI in [0,10]\n",
    "\n",
    "## Goal\n",
    "The website is dynamic: a dynamic website is a website that displays different types of content every time a user views it, and this display changes depending on rules. \n",
    "The idea is: use the information at your disposal for creating a more tailored experience on the site. Based on a user’s previous visit, or similar users' behaviors, a dynamic website can offer similar or related recommendations in terms of web pages, contents, etc. This is a job for a recommendation system.\n",
    "\n",
    "Let's import data and libraries, and let's have a look at our data."
   ]
  },
  {
   "cell_type": "code",
   "execution_count": 65,
   "metadata": {},
   "outputs": [],
   "source": [
    "import numpy as np\n",
    "import pandas as pd\n",
    "\n",
    "webpages = pd.read_excel('/Users/raffaelezenti/Dropbox (virtualb)/RaffaeleZenti/MyMatlab/Laboratorio_Politecnico_Milano/WebPagesKPI.xlsx') # Only reads col1, col2, col3. col0 will be ignored\n"
   ]
  },
  {
   "cell_type": "code",
   "execution_count": 41,
   "metadata": {},
   "outputs": [
    {
     "name": "stdout",
     "output_type": "stream",
     "text": [
      "               User ID  Inv  Ins  ReE  Pay  MeM\n",
      "0     OARQ249814647825    5    1    0    0    0\n",
      "1     VIZP702882221151    0    0    5    0    2\n",
      "2     FQEO606412621089    6    0    0    0    0\n",
      "3     TOPH566154866098    0    0    0    8    0\n",
      "4     TOPH566154869076    6    2    0    0    0\n",
      "...                ...  ...  ...  ...  ...  ...\n",
      "2078  UFDM391092504710    7    0    0    0    0\n",
      "2079  UFDM391092504710    1    0    0    0    5\n",
      "2080  UXUK848361229470    0    0    9    0    0\n",
      "2081  ATQU555050383451    2    0    0    1    0\n",
      "2082  DDFU541993148635    1    0    1    0    2\n",
      "\n",
      "[2083 rows x 6 columns]\n"
     ]
    }
   ],
   "source": [
    "print(webpages)"
   ]
  },
  {
   "cell_type": "code",
   "execution_count": 66,
   "metadata": {},
   "outputs": [
    {
     "data": {
      "text/html": [
       "<div>\n",
       "<style scoped>\n",
       "    .dataframe tbody tr th:only-of-type {\n",
       "        vertical-align: middle;\n",
       "    }\n",
       "\n",
       "    .dataframe tbody tr th {\n",
       "        vertical-align: top;\n",
       "    }\n",
       "\n",
       "    .dataframe thead th {\n",
       "        text-align: right;\n",
       "    }\n",
       "</style>\n",
       "<table border=\"1\" class=\"dataframe\">\n",
       "  <thead>\n",
       "    <tr style=\"text-align: right;\">\n",
       "      <th></th>\n",
       "      <th>User ID</th>\n",
       "      <th>Inv</th>\n",
       "      <th>Ins</th>\n",
       "      <th>ReE</th>\n",
       "      <th>Pay</th>\n",
       "      <th>MeM</th>\n",
       "    </tr>\n",
       "  </thead>\n",
       "  <tbody>\n",
       "    <tr>\n",
       "      <th>0</th>\n",
       "      <td>OARQ249814647825</td>\n",
       "      <td>5</td>\n",
       "      <td>1</td>\n",
       "      <td>0</td>\n",
       "      <td>0</td>\n",
       "      <td>0</td>\n",
       "    </tr>\n",
       "    <tr>\n",
       "      <th>1</th>\n",
       "      <td>VIZP702882221151</td>\n",
       "      <td>0</td>\n",
       "      <td>0</td>\n",
       "      <td>5</td>\n",
       "      <td>0</td>\n",
       "      <td>2</td>\n",
       "    </tr>\n",
       "    <tr>\n",
       "      <th>2</th>\n",
       "      <td>FQEO606412621089</td>\n",
       "      <td>6</td>\n",
       "      <td>0</td>\n",
       "      <td>0</td>\n",
       "      <td>0</td>\n",
       "      <td>0</td>\n",
       "    </tr>\n",
       "    <tr>\n",
       "      <th>3</th>\n",
       "      <td>TOPH566154866098</td>\n",
       "      <td>0</td>\n",
       "      <td>0</td>\n",
       "      <td>0</td>\n",
       "      <td>8</td>\n",
       "      <td>0</td>\n",
       "    </tr>\n",
       "    <tr>\n",
       "      <th>4</th>\n",
       "      <td>TOPH566154869076</td>\n",
       "      <td>6</td>\n",
       "      <td>2</td>\n",
       "      <td>0</td>\n",
       "      <td>0</td>\n",
       "      <td>0</td>\n",
       "    </tr>\n",
       "  </tbody>\n",
       "</table>\n",
       "</div>"
      ],
      "text/plain": [
       "            User ID  Inv  Ins  ReE  Pay  MeM\n",
       "0  OARQ249814647825    5    1    0    0    0\n",
       "1  VIZP702882221151    0    0    5    0    2\n",
       "2  FQEO606412621089    6    0    0    0    0\n",
       "3  TOPH566154866098    0    0    0    8    0\n",
       "4  TOPH566154869076    6    2    0    0    0"
      ]
     },
     "execution_count": 66,
     "metadata": {},
     "output_type": "execute_result"
    }
   ],
   "source": [
    "webpages.head()"
   ]
  },
  {
   "cell_type": "code",
   "execution_count": 67,
   "metadata": {},
   "outputs": [
    {
     "data": {
      "text/plain": [
       "User ID    object\n",
       "Inv         int64\n",
       "Ins         int64\n",
       "ReE         int64\n",
       "Pay         int64\n",
       "MeM         int64\n",
       "dtype: object"
      ]
     },
     "execution_count": 67,
     "metadata": {},
     "output_type": "execute_result"
    }
   ],
   "source": [
    "webpages.dtypes"
   ]
  },
  {
   "cell_type": "markdown",
   "metadata": {},
   "source": [
    "## Collaborative Filtering\n",
    "There are many techniques used for finding and recommending many suitable items (item = web page, in this case): **collaborative filtering through SVD is just one of those techniques**. It's very popular.\n",
    "\n",
    "The assumption of collaborative filtering is that people who have liked or bought an item (a product, a service, a web page, whatever) in the past will also like or buy the same in future. Thus, this approach builds a model based on the past behaviour of users, finding an association between the users and the items. The model is then used to predict the item in which the user may be interested.\n",
    "\n",
    "We can use SVD to discover structural, statistical relationship between items, and a recommender system can be build easily from this.\n",
    "\n",
    "Let's see how.\n",
    "Just like a number, say 30, can be decomposed as factors 30 = 2x5x3, a matrix can also be expressed as multiplication of some other matrices. But because matrices are arrays of numbers, they have their own rules of multiplication: SVD is a linear algebra technique to break down a matrix into the product of a few smaller matrices - see https://en.wikipedia.org/wiki/Singular_value_decomposition, and https://numpy.org/doc/stable/reference/generated/numpy.linalg.svd.html.\n",
    "\n",
    "\n",
    "Briefly, SVD assumes a matrix of dimension users x items (which is called Utility Matrix) is decomposed as follows: matrix = U$\\cdot$S$\\cdot$V'\n",
    "\n",
    "Let's see an example with a random matrix:"
   ]
  },
  {
   "cell_type": "code",
   "execution_count": 68,
   "metadata": {},
   "outputs": [
    {
     "name": "stdout",
     "output_type": "stream",
     "text": [
      "[[ 0.84648544  1.26070063 -3.07590512  0.60862793  0.69346675]\n",
      " [ 0.31753406 -1.18668584 -0.18521525 -1.13049123 -0.15666543]\n",
      " [ 0.43980537  0.42486335 -0.32955343 -1.68930254 -0.57923573]\n",
      " [ 0.27424359 -0.45297437  0.11550226  1.08716815 -0.04499344]\n",
      " [ 0.06046577  1.77249652 -1.06179003  0.97892306 -0.06248195]\n",
      " [ 0.82066937  0.66382157 -1.12547882  0.53721618  1.53539702]\n",
      " [-0.72570109 -0.93293822  1.19478233  0.33448716 -0.02663278]\n",
      " [ 1.22660858 -0.3577489  -0.43986134  0.27384299 -1.19442424]]\n"
     ]
    }
   ],
   "source": [
    "# create a random matrix (no structure inside)\n",
    "a=np.random.randn(8,5)\n",
    "print(a)"
   ]
  },
  {
   "cell_type": "code",
   "execution_count": 79,
   "metadata": {},
   "outputs": [
    {
     "name": "stdout",
     "output_type": "stream",
     "text": [
      "[[-0.73996141  0.14516889 -0.08296529  0.19225129 -0.53530661  0.09932034\n",
      "   0.04019732  0.29917518]\n",
      " [ 0.14530541  0.47466912 -0.09233679  0.44927822 -0.27199737 -0.02020144\n",
      "   0.09532128 -0.67802784]\n",
      " [-0.00928369  0.65872012  0.25873047 -0.26600327  0.25109674  0.57828857\n",
      "   0.10069027  0.1438633 ]\n",
      " [-0.00141431 -0.28381723 -0.46808729  0.14242794  0.06105472  0.68357886\n",
      "  -0.43307063 -0.14661666]\n",
      " [-0.41105412 -0.23312088  0.03503475 -0.58034301 -0.01005631  0.08491843\n",
      "   0.26191713 -0.60228803]\n",
      " [-0.39843155 -0.14184959  0.15645025  0.53771755  0.6600027   0.02119492\n",
      "   0.2553222  -0.07919547]\n",
      " [ 0.31659543 -0.29014789 -0.05240048  0.12902612 -0.25184014  0.35636912\n",
      "   0.76272047  0.15499375]\n",
      " [-0.05752743  0.28372232 -0.81859244 -0.16600948  0.27121737 -0.23102018\n",
      "   0.27582024  0.12463354]]\n"
     ]
    }
   ],
   "source": [
    "from numpy.linalg import svd\n",
    "\n",
    "# apply SVD\n",
    "u, s, vh = svd(a, full_matrices=True)\n",
    "\n",
    "print(u)"
   ]
  },
  {
   "cell_type": "code",
   "execution_count": 70,
   "metadata": {},
   "outputs": [
    {
     "name": "stdout",
     "output_type": "stream",
     "text": [
      "[4.70081724 2.68896011 1.94148647 1.81017566 0.87533429]\n"
     ]
    }
   ],
   "source": [
    "print(s)"
   ]
  },
  {
   "cell_type": "markdown",
   "metadata": {},
   "source": [
    "Python returns the output as a vector, for simplicity, but it's actually a diagonal matrix containing the singular values (latent factors)."
   ]
  },
  {
   "cell_type": "code",
   "execution_count": 71,
   "metadata": {},
   "outputs": [
    {
     "name": "stdout",
     "output_type": "stream",
     "text": [
      "[[4.70081724 0.         0.         0.         0.        ]\n",
      " [0.         2.68896011 0.         0.         0.        ]\n",
      " [0.         0.         1.94148647 0.         0.        ]\n",
      " [0.         0.         0.         1.81017566 0.        ]\n",
      " [0.         0.         0.         0.         0.87533429]]\n"
     ]
    }
   ],
   "source": [
    "print(np.diag(s))"
   ]
  },
  {
   "cell_type": "code",
   "execution_count": 80,
   "metadata": {},
   "outputs": [
    {
     "name": "stdout",
     "output_type": "stream",
     "text": [
      "[[-0.26311395 -0.50554367  0.75316278 -0.23969724 -0.2246947 ]\n",
      " [ 0.339741   -0.1152939  -0.31558468 -0.81568957 -0.32609845]\n",
      " [-0.48915148  0.42989122  0.11184415 -0.52301258  0.53839864]\n",
      " [ 0.18584038 -0.66347327 -0.18354842 -0.03769579  0.70011112]\n",
      " [ 0.73589489  0.32577549  0.53567994 -0.0472506   0.25128355]]\n"
     ]
    }
   ],
   "source": [
    "print(vh)"
   ]
  },
  {
   "cell_type": "markdown",
   "metadata": {},
   "source": [
    "Basically, we are looking for the **latent variables, or latent factors**, that hide under the surface of the phenomenon we are analyzing (in this case, the use of web pages):\n",
    "- U (u in the code) represents the relationship between users and latent factors\n",
    "- S (s in the code) describes the strength of each latent factor\n",
    "- V (vh in the code) describes the similarity between items and latent factors.\n"
   ]
  },
  {
   "cell_type": "code",
   "execution_count": 73,
   "metadata": {},
   "outputs": [
    {
     "name": "stdout",
     "output_type": "stream",
     "text": [
      "       Ostriche  Cozze  Salmone  Vongole  Salsiccia  Costata  Rostelle  \\\n",
      "Anna          5     10       30        7          0        1         0   \n",
      "Marco         0      1        5        1         15        3         0   \n",
      "Emma          4     12       20       17          1        1         0   \n",
      "Lisa         14      3       33        4          0        1         0   \n",
      "Luca          1      1        1        1          9        5         1   \n",
      "Eva           5     15       18        4          1        1         0   \n",
      "\n",
      "       Hamburger  \n",
      "Anna           2  \n",
      "Marco         20  \n",
      "Emma           5  \n",
      "Lisa           2  \n",
      "Luca          22  \n",
      "Eva            1  \n"
     ]
    }
   ],
   "source": [
    "utility_matrix = np.array([[5, 10, 30, 7, 0, 1, 0, 2], [0, 1, 5, 1, 15, 3, 0, 20],[4, 12, 20, 17, 1, 1, 0, 5],\n",
    "                    [14, 3, 33, 4, 0, 1, 0, 2], [1, 1, 1, 1, 9, 5, 1, 22],[5, 15, 18, 4, 1, 1, 0, 1]])\n",
    "rownames = ['Anna', 'Marco', 'Emma', 'Lisa', 'Luca', 'Eva']\n",
    "colnames = ['Ostriche', 'Cozze', 'Salmone', 'Vongole', 'Salsiccia', 'Costata','Rostelle', 'Hamburger', ]\n",
    "mydataframe = pd.DataFrame(utility_matrix, index=rownames, columns=colnames)\n",
    "print(mydataframe)"
   ]
  },
  {
   "cell_type": "code",
   "execution_count": 82,
   "metadata": {},
   "outputs": [
    {
     "name": "stdout",
     "output_type": "stream",
     "text": [
      "        0   1   2   3   4   5\n",
      "Anna  -54 -13   2 -14  39  72\n",
      "Marco -16  69  10 -12  60 -34\n",
      "Emma  -45   1 -66  57  -3 -20\n",
      "Lisa  -57 -15  68  22 -22 -31\n",
      "Luca  -11  69   3   4 -61  38\n",
      "Eva   -38  -8 -31 -77 -27 -29\n"
     ]
    }
   ],
   "source": [
    "# apply SVD\n",
    "u, s, vh = svd(utility_matrix, full_matrices=True)\n",
    "\n",
    "users_matrix = pd.DataFrame(np.round(100*u).astype(int), index=rownames)\n",
    "print(users_matrix)"
   ]
  },
  {
   "cell_type": "code",
   "execution_count": 75,
   "metadata": {},
   "outputs": [
    {
     "name": "stdout",
     "output_type": "stream",
     "text": [
      "[[60.02729143  0.          0.          0.          0.          0.        ]\n",
      " [ 0.         33.9234053   0.          0.          0.          0.        ]\n",
      " [ 0.          0.         15.68516924  0.          0.          0.        ]\n",
      " [ 0.          0.          0.          8.70326803  0.          0.        ]\n",
      " [ 0.          0.          0.          0.          5.31681903  0.        ]\n",
      " [ 0.          0.          0.          0.          0.          3.8583524 ]]\n"
     ]
    }
   ],
   "source": [
    "print(np.diag(s))"
   ]
  },
  {
   "cell_type": "code",
   "execution_count": 76,
   "metadata": {},
   "outputs": [
    {
     "name": "stdout",
     "output_type": "stream",
     "text": [
      "   Ostriche  Cozze  Salmone  Vongole  Salsiccia  Costata  Rostelle  Hamburger\n",
      "0       -24    -31      -86      -26         -7       -5         0        -17\n",
      "1        -7     -4      -18       -1         49       15         2         84\n",
      "2        35    -65       31      -60          5        1         0          2\n",
      "3         9    -65       -2       73        -18       -3         0          9\n",
      "4       -60    -22       26        6         59      -26       -11        -30\n",
      "5       -67    -11       25      -17        -56       21        10         28\n",
      "6         0     -1        1        1         10      -13        98         -5\n",
      "7         2      6        0       -8        -22      -92        -9         30\n"
     ]
    }
   ],
   "source": [
    "products = pd.DataFrame(np.round(100*vh).astype(int), columns=colnames)\n",
    "\n",
    "print(products)"
   ]
  },
  {
   "cell_type": "markdown",
   "metadata": {},
   "source": [
    "Please note that the latent factors we get using SVD are **estimate** of the characteristics of the items: the SVD decreases the dimension of the utility matrix by extracting its latent factors. It maps each user and each item into a r-dimensional latent space. This mapping facilitates a \"clear\" representation of relationships between users and items. Then we will use cosine similarity to find the closest web pages and make a recommendation - see https://en.wikipedia.org/wiki/Cosine_similarity.\n",
    "\n",
    "Let's work on our webpage data."
   ]
  },
  {
   "cell_type": "code",
   "execution_count": 77,
   "metadata": {},
   "outputs": [
    {
     "name": "stdout",
     "output_type": "stream",
     "text": [
      "(2083, 5)\n",
      "(5,)\n",
      "(5, 5)\n"
     ]
    }
   ],
   "source": [
    "# drop the User ID and create the Utility Matrix\n",
    "webpages.drop(columns=['User ID'],inplace=True)\n",
    "\n",
    "matrix = webpages.values\n",
    "u, s, vh = svd(matrix, full_matrices=False)\n",
    "\n",
    "# little inspection\n",
    "print(u.shape)\n",
    "print(s.shape)\n",
    "print(vh.shape)"
   ]
  },
  {
   "cell_type": "markdown",
   "metadata": {},
   "source": [
    "NOTE 1: By default, the svd() returns a full SVD, but I used a reduced version so we have smaller matrices and we save memory. \n",
    "NOTE 2: If we normalize the scores, by subtracting their average rating, we turn low scores into negative numbers and high scores into positive numbers. This is a strong signal - maybe too strong in this case (it's OK with books and movies, but here? these are webpages...).\n",
    "HINT: try and see what happen."
   ]
  },
  {
   "cell_type": "markdown",
   "metadata": {},
   "source": [
    "**The columns of vh correspond to the web pages**.\n",
    "We can based on vector space model to find which items are most similar to the one we are looking at, using cosine similarity.\n",
    "And in this stupid example, I try to find the web page that is best match to to first column (column 0), but - HINT - you can get an ordered list.\n",
    "\n",
    "So if, say, I pick the web page corresponding to the chosen columns, the suggested NBA would be the top result of the cosine similarity ranking."
   ]
  },
  {
   "cell_type": "code",
   "execution_count": 78,
   "metadata": {},
   "outputs": [
    {
     "name": "stdout",
     "output_type": "stream",
     "text": [
      "Column 2 is most similar to column 0\n"
     ]
    }
   ],
   "source": [
    "def cosine_similarity(v,u):\n",
    "    return (v @ u)/ (np.linalg.norm(v) * np.linalg.norm(u))\n",
    "\n",
    "\n",
    "highest_similarity = -np.inf\n",
    "highest_sim_col = -1\n",
    "\n",
    "for col in range(1,vh.shape[1]):\n",
    "    similarity = cosine_similarity(vh[:,0], vh[:,col])\n",
    "    if similarity > highest_similarity:\n",
    "        highest_similarity = similarity\n",
    "        highest_sim_col = col\n",
    " \n",
    "print(\"Column %d is most similar to column 0\" % highest_sim_col)\n"
   ]
  },
  {
   "cell_type": "code",
   "execution_count": null,
   "metadata": {},
   "outputs": [],
   "source": []
  }
 ],
 "metadata": {
  "kernelspec": {
   "display_name": "Python 3",
   "language": "python",
   "name": "python3"
  },
  "language_info": {
   "codemirror_mode": {
    "name": "ipython",
    "version": 3
   },
   "file_extension": ".py",
   "mimetype": "text/x-python",
   "name": "python",
   "nbconvert_exporter": "python",
   "pygments_lexer": "ipython3",
   "version": "3.8.5"
  }
 },
 "nbformat": 4,
 "nbformat_minor": 4
}
